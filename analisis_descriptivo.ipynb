{
 "cells": [
  {
   "cell_type": "markdown",
   "metadata": {},
   "source": [
    "<h1>Contexto</h1>\n"
   ]
  },
  {
   "cell_type": "markdown",
   "metadata": {},
   "source": [
    "Bob ha iniciado su propia compañía de teléfonos móviles. Quiere competir ferozmente con grandes compañías como Apple, Samsung, etc.\n",
    "\n",
    "No sabe cómo estimar el precio de los móviles que su compañía crea. En este competitivo mercado de teléfonos móviles no se pueden simplemente asumir las cosas. Para resolver este problema, ha recopilado datos de ventas de teléfonos móviles de varias compañías.\n",
    "\n",
    "Bob quiere encontrar alguna relación entre las características de un teléfono móvil (por ejemplo: RAM, Memoria Interna, etc.) asi que necesita tu ayuda para resolver este problema.\n",
    "\n",
    "En este problema Bob no requiere  que se prediga el precio exacto, sino un rango de precios que indique cuán alto es el precio."
   ]
  },
  {
   "cell_type": "markdown",
   "metadata": {},
   "source": [
    "<h1>Analisis descriptivo</h1>\n"
   ]
  },
  {
   "cell_type": "markdown",
   "metadata": {},
   "source": [
    "paso1 carga de las librerias"
   ]
  },
  {
   "cell_type": "code",
   "execution_count": 1,
   "metadata": {},
   "outputs": [],
   "source": [
    "import pandas as pd\n",
    "import numpy as np\n",
    "import warnings\n",
    "warnings.filterwarnings('ignore')\n",
    "from sklearn.model_selection import train_test_split\n",
    "from sklearn.linear_model import LogisticRegression\n",
    "import sklearn.metrics as metrics\n",
    "from sklearn.ensemble import RandomForestClassifier\n",
    "import matplotlib.pyplot as plt\n",
    "import seaborn as sns"
   ]
  },
  {
   "cell_type": "markdown",
   "metadata": {},
   "source": [
    "paso2 carga y visualizacion de la base de datos \n",
    "\n",
    "\n",
    "\n"
   ]
  },
  {
   "cell_type": "code",
   "execution_count": 4,
   "metadata": {},
   "outputs": [
    {
     "name": "stdout",
     "output_type": "stream",
     "text": [
      "   id  battery_power  blue  clock_speed  dual_sim  fc  four_g  int_memory  \\\n",
      "0   1           1043     1          1.8         1  14       0           5   \n",
      "1   2            841     1          0.5         1   4       1          61   \n",
      "2   3           1807     1          2.8         0   1       0          27   \n",
      "3   4           1546     0          0.5         1  18       1          25   \n",
      "4   5           1434     0          1.4         0  11       1          49   \n",
      "\n",
      "   m_dep  mobile_wt  ...  pc  px_height  px_width   ram  sc_h  sc_w  \\\n",
      "0    0.1        193  ...  16        226      1412  3476    12     7   \n",
      "1    0.8        191  ...  12        746       857  3895     6     0   \n",
      "2    0.9        186  ...   4       1270      1366  2396    17    10   \n",
      "3    0.5         96  ...  20        295      1752  3893    10     0   \n",
      "4    0.5        108  ...  18        749       810  1773    15     8   \n",
      "\n",
      "   talk_time  three_g  touch_screen  wifi  \n",
      "0          2        0             1     0  \n",
      "1          7        1             0     0  \n",
      "2         10        0             1     1  \n",
      "3          7        1             1     0  \n",
      "4          7        1             0     1  \n",
      "\n",
      "[5 rows x 21 columns]\n"
     ]
    }
   ],
   "source": [
    "import pandas as pd\n",
    "archivo_csv = 'C:/Users/Usuario/Music/informe/informetoma2/telefono.csv' \n",
    "\n",
    "df = pd.read_csv(archivo_csv)\n",
    "print(df.head())"
   ]
  }
 ],
 "metadata": {
  "kernelspec": {
   "display_name": "Python 3",
   "language": "python",
   "name": "python3"
  },
  "language_info": {
   "codemirror_mode": {
    "name": "ipython",
    "version": 3
   },
   "file_extension": ".py",
   "mimetype": "text/x-python",
   "name": "python",
   "nbconvert_exporter": "python",
   "pygments_lexer": "ipython3",
   "version": "3.11.5"
  }
 },
 "nbformat": 4,
 "nbformat_minor": 2
}
